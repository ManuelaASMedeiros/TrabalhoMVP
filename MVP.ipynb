{
  "nbformat": 4,
  "nbformat_minor": 0,
  "metadata": {
    "colab": {
      "provenance": [],
      "authorship_tag": "ABX9TyMjoAqRTEMXqFfXBRAhM75l",
      "include_colab_link": true
    },
    "kernelspec": {
      "name": "python3",
      "display_name": "Python 3"
    },
    "language_info": {
      "name": "python"
    }
  },
  "cells": [
    {
      "cell_type": "markdown",
      "metadata": {
        "id": "view-in-github",
        "colab_type": "text"
      },
      "source": [
        "<a href=\"https://colab.research.google.com/github/ManuelaASMedeiros/TrabalhoMVP/blob/main/MVP.ipynb\" target=\"_parent\"><img src=\"https://colab.research.google.com/assets/colab-badge.svg\" alt=\"Open In Colab\"/></a>"
      ]
    },
    {
      "cell_type": "markdown",
      "source": [
        "Requisitos para o Desenvolvimento do MVP\n",
        "\n",
        "Contexto:\n",
        "1. Escolha bases de dados que não tenham sido utilizadas em aula. Sugere-se usar bases de dados disponibilizada em algum dos repositórios a seguir:\n",
        "\n",
        "UCI Machine Learning Repository: https://archive.ics.uci.edu/ml/datasets.php\n",
        "\n",
        "Kaggle: https://www.kaggle.com/datasets\n",
        "\n",
        "Google Datasets: https://datasetsearch.research.google.com/\n",
        "\n",
        "Hugging Face: https://huggingface.co/datasets\n",
        "\n",
        "\n",
        "\n",
        "> Aproveite os filtros que oferecem os repositórios para encontrar com mais facilidade os datasets da sua preferência. Caso você prefira usar um dataset que reflita um problema real da sua empresa (cuidado apenas com a confidencialidade dos dados), será muito bem-vindo.\n",
        "\n",
        "\n",
        "\n",
        "2. Você deverá treinar dois modelos de machine learning: um modelo utilizando métodos clássicos para um problema de classificação ou regressão (a); e  outro utilizando Deep Learning para um problema de visão computacional ou processamento de linguagem natural (b).\n",
        "\n",
        "> Você deverá treinar modelos clássicos de machine learning, iniciando na carga e preparação dos dados, incluindo a separação entre treino e teste, a seleção de atributos, transformação de dados, modelagem, otimização de hiperparâmetros, até a avaliação e comparação de resultados dos modelos treinados. É recomendado o uso de cross-validation e a criação de pipelines, conforme apresentado no material do curso.\n",
        "Você deverá treinar um modelo baseado em Deep Learning para resolver um problema de visão computacional ou processamento de linguagem natural, iniciando na carga e preparação dos dados, incluindo a separação entre treino e teste, modelagem, otimização de hiperparâmetros, até a avaliação e comparação de resultados dos modelos treinados.\n",
        "\n",
        "\n",
        "3. Produza um notebook no Google Colab, considerando o item 1 e o item 2, com as características a seguir:\n",
        "\n",
        "> O notebook servirá como relatório, descrevendo textualmente (utilizando as células de texto) o contexto do problema e as operações  com os dados (veja o checklist sugerido abaixo).\n",
        "Utilize a linguagem Python e bibliotecas que considere apropriadas para abordar o problema.\n",
        "Crie o notebook seguindo as boas práticas de codificação vistas na disciplina Programação Orientada a Objetos."
      ],
      "metadata": {
        "id": "DIzE1yqwCCho"
      }
    },
    {
      "cell_type": "markdown",
      "source": [
        "Etapa 1 - Definição do Problema\n",
        "\n",
        "Objetivo: entender e descrever claramente o problema que está sendo resolvido.\n",
        "\n",
        "Qual é a descrição do problema?\n",
        "Você tem premissas ou hipóteses sobre o problema? Quais?\n",
        "Que restrições ou condições foram impostas para selecionar os dados?\n",
        "Descreva o seu dataset (atributos, imagens, anotações, etc)."
      ],
      "metadata": {
        "id": "7qhZjPe8CUG1"
      }
    },
    {
      "cell_type": "markdown",
      "source": [
        "https://www.kaggle.com/datasets/vikrishnan/iris-dataset"
      ],
      "metadata": {
        "id": "Tcf2_G_eteXp"
      }
    },
    {
      "cell_type": "code",
      "source": [],
      "metadata": {
        "id": "EhLdD1HPYUIh"
      },
      "execution_count": null,
      "outputs": []
    },
    {
      "cell_type": "markdown",
      "source": [
        "Etapa 2 - Preparação de Dados\n",
        "\n",
        "Objetivo: realizar operações de preparação dos dados.\n",
        "\n",
        "Separe o dataset entre treino e teste (e validação, se aplicável).\n",
        "Faz sentido utilizar um método de validação cruzada? Justifique se não utilizar.\n",
        "Verifique quais operações de transformação de dados (como normalização e padronização, transformação de imagens em tensores) são mais apropriadas para o seu problema e salve visões diferentes do seu dataset para posterior avaliação dos modelos.\n",
        "Refine a quantidade de atributos disponíveis, realizando o processo de feature selection de forma adequada."
      ],
      "metadata": {
        "id": "gDw_y9WrCUPO"
      }
    },
    {
      "cell_type": "markdown",
      "source": [
        "Etapa 3 - Modelagem e treinamento:\n",
        "\n",
        "Objetivo: construir modelos para resolver o problema em questão.\n",
        "\n",
        "Selecione os algoritmos mais indicados para o problema e dataset escolhidos, justificando as suas escolhas.\n",
        "Há algum ajuste inicial para os hiperparâmetros?\n",
        "O modelo foi devidamente treinado? Foi observado problema de underfitting?\n",
        "É possível otimizar os hiperparâmetros de algum dos modelos? Se sim, faça-o, justificando todas as escolhas.\n",
        "Há algum método avançado ou mais complexo que possa ser avaliado?\n",
        "Posso criar um comitê de modelos diferentes para o problema (ensembles)?"
      ],
      "metadata": {
        "id": "BQ3MAQ0fX8iP"
      }
    },
    {
      "cell_type": "code",
      "source": [],
      "metadata": {
        "id": "kVb9XRJyYVMQ"
      },
      "execution_count": null,
      "outputs": []
    },
    {
      "cell_type": "code",
      "source": [],
      "metadata": {
        "id": "ajKiE69FCM3_"
      },
      "execution_count": null,
      "outputs": []
    },
    {
      "cell_type": "code",
      "source": [],
      "metadata": {
        "id": "dlqlPt7cYQVm"
      },
      "execution_count": null,
      "outputs": []
    },
    {
      "cell_type": "markdown",
      "source": [
        "Etapa 4 - Avaliação de Resultados:\n",
        "\n",
        "Objetivo: analisar o desempenho dos modelos gerados em dados não vistos (com a base de teste)\n",
        "\n",
        "Selecione as métricas de avaliação condizentes com o problema, justificando.\n",
        "Treine o modelo escolhido com toda a base de treino, e teste-o com a base de teste.\n",
        "Os resultados fazem sentido?\n",
        "Foi observado algum problema de overfitting?\n",
        "Compare os resultados de diferentes modelos.\n",
        "Descreva a melhor solução encontrada, justificando."
      ],
      "metadata": {
        "id": "3p09SMF1YJ1u"
      }
    }
  ]
}